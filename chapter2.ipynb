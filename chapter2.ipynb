{
 "cells": [
  {
   "cell_type": "code",
   "execution_count": 84,
   "id": "e94c6f46-87de-4ba0-932a-e240eb503f33",
   "metadata": {},
   "outputs": [],
   "source": [
    "subjects=[\"physics\",\"calculus\",\"poetry\",\"history\"]\n",
    "grades=[98,97,85,88]\n",
    "i=0\n",
    "gradebook=[]"
   ]
  },
  {
   "cell_type": "code",
   "execution_count": 85,
   "id": "5284a28c-fea4-4f7a-bc76-45d3e4d77a05",
   "metadata": {
    "tags": []
   },
   "outputs": [
    {
     "name": "stdout",
     "output_type": "stream",
     "text": [
      "[['physics', 98], ['calculus', 97], ['poetry', 85], ['history', 88]]\n"
     ]
    }
   ],
   "source": [
    "while i<4:\n",
    "    gradeplus=[subjects[i],grades[i]]\n",
    "    gradebook.insert(i,gradeplus)\n",
    "    i+=1\n",
    "print(gradebook)"
   ]
  },
  {
   "cell_type": "code",
   "execution_count": 86,
   "id": "ebbb600d-3660-4fa8-8a4e-d89e993f2839",
   "metadata": {},
   "outputs": [
    {
     "name": "stdout",
     "output_type": "stream",
     "text": [
      "[['physics', 98], ['calculus', 97], ['poetry', 85], ['history', 88], ['computer science', 100]]\n"
     ]
    }
   ],
   "source": [
    "plus1=[\"computer science\",100]\n",
    "gradebook.append(plus1)\n",
    "print(gradebook)"
   ]
  },
  {
   "cell_type": "code",
   "execution_count": 87,
   "id": "d932a92b-2e0f-4291-8df9-94e635badf33",
   "metadata": {
    "tags": []
   },
   "outputs": [
    {
     "name": "stdout",
     "output_type": "stream",
     "text": [
      "[['physics', 98], ['calculus', 97], ['poetry', 85], ['history', 88], ['computer science', 100], ['visual arts', 93]]\n"
     ]
    }
   ],
   "source": [
    "plus2=[\"visual arts\", 93]\n",
    "gradebook.append(plus2)\n",
    "print(gradebook)"
   ]
  },
  {
   "cell_type": "code",
   "execution_count": 88,
   "id": "ccc10c1d-8311-422a-b39f-56877c59fe1a",
   "metadata": {
    "tags": []
   },
   "outputs": [
    {
     "name": "stdout",
     "output_type": "stream",
     "text": [
      "[['physics', 98], ['calculus', 97], ['history', 88], ['computer science', 100], ['visual arts', 93]]\n",
      "[['physics', 98], ['calculus', 97], ['poetry', 'pass'], ['history', 88], ['computer science', 100], ['visual arts', 93]]\n"
     ]
    }
   ],
   "source": [
    "gradebook.remove(['poetry',85])\n",
    "print(gradebook)\n",
    "gradebook.insert(2,['poetry','pass'])\n",
    "print(gradebook)"
   ]
  },
  {
   "cell_type": "code",
   "execution_count": 90,
   "id": "02084b22-0f22-46fa-b95e-2717b949bf04",
   "metadata": {
    "tags": []
   },
   "outputs": [
    {
     "name": "stdout",
     "output_type": "stream",
     "text": [
      "[['politics', 80], ['latin', 96], ['dance', 97], ['architecture', 65], ['physics', 98], ['calculus', 97], ['poetry', 'pass'], ['history', 88], ['computer science', 100], ['visual arts', 93]]\n"
     ]
    }
   ],
   "source": [
    "last_semester_gradebook = [[\"politics\", 80], [\"latin\", 96], [\"dance\", 97], [\"architecture\", 65]]\n",
    "full_gradebook=last_semester_gradebook+gradebook\n",
    "print(full_gradebook)"
   ]
  },
  {
   "cell_type": "code",
   "execution_count": null,
   "id": "5369b8a4-4cdf-41e5-9ea8-5d8b9389cf0b",
   "metadata": {},
   "outputs": [],
   "source": []
  },
  {
   "cell_type": "code",
   "execution_count": null,
   "id": "b1df73f7-19de-4180-99c5-729651df3718",
   "metadata": {},
   "outputs": [],
   "source": []
  },
  {
   "cell_type": "code",
   "execution_count": null,
   "id": "15fb8e4f-a7fa-4c7d-b849-6932c8371efb",
   "metadata": {},
   "outputs": [],
   "source": []
  }
 ],
 "metadata": {
  "kernelspec": {
   "display_name": "Python 3 (ipykernel)",
   "language": "python",
   "name": "python3"
  },
  "language_info": {
   "codemirror_mode": {
    "name": "ipython",
    "version": 3
   },
   "file_extension": ".py",
   "mimetype": "text/x-python",
   "name": "python",
   "nbconvert_exporter": "python",
   "pygments_lexer": "ipython3",
   "version": "3.11.4"
  }
 },
 "nbformat": 4,
 "nbformat_minor": 5
}
