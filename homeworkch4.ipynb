{
 "cells": [
  {
   "cell_type": "code",
   "execution_count": 1,
   "id": "e0c85dca-8e94-4c55-a511-331b6ccddcff",
   "metadata": {
    "tags": []
   },
   "outputs": [],
   "source": [
    "import pandas as pd\n",
    "import numpy as np"
   ]
  },
  {
   "cell_type": "code",
   "execution_count": 4,
   "id": "f1cb384c-a774-4c94-9820-a833112d8b85",
   "metadata": {
    "tags": []
   },
   "outputs": [],
   "source": [
    "monthy=np.array(['쌍', '쇠', '복', '돌', '팽', '육', '쌍', '개', '칠', '갑', '삼', '방'])"
   ]
  },
  {
   "cell_type": "code",
   "execution_count": 5,
   "id": "482083a6-2523-40ee-9d23-978562742d36",
   "metadata": {
    "tags": []
   },
   "outputs": [],
   "source": [
    "dayy=np.array(['봉', '구', '욕', '포', '똥', '삼', '식', '석', '놈', '님', '년', '돌', '단', '득', '방', '질', '장', '걸', '래', '룡', '동', '순', '자', '박', '창', '언', '것', '포', '만', '단', '국'])"
   ]
  },
  {
   "cell_type": "code",
   "execution_count": 11,
   "id": "2ed63a5f-980a-461b-be9c-a1f3e7d8fe28",
   "metadata": {
    "tags": []
   },
   "outputs": [],
   "source": [
    "def get_my_chosun_name(family_name,month,day):\n",
    "    for i in range (len(monthy)):\n",
    "        if(i==month):\n",
    "            a=monthy[i-1]\n",
    "        else:\n",
    "            continue\n",
    "    for i in range (len(dayy)):\n",
    "        if(i==day):\n",
    "            b=dayy[i-1]\n",
    "        else:\n",
    "            continue\n",
    "    print(\"당신의 조선시대 이름은\",family_name,a,b,\"입니다\")\n",
    "        \n",
    "    "
   ]
  },
  {
   "cell_type": "code",
   "execution_count": 12,
   "id": "33c7c8cf-feb2-4338-bbee-b1f4069d7053",
   "metadata": {
    "tags": []
   },
   "outputs": [
    {
     "name": "stdout",
     "output_type": "stream",
     "text": [
      "당신의 조선시대 이름은 권 쌍 득 입니다\n"
     ]
    }
   ],
   "source": [
    "get_my_chosun_name('권',7,14)"
   ]
  },
  {
   "cell_type": "code",
   "execution_count": null,
   "id": "252067b3-090a-409e-b46a-8e7894711080",
   "metadata": {},
   "outputs": [],
   "source": []
  },
  {
   "cell_type": "code",
   "execution_count": null,
   "id": "cbb92e5d-f965-4554-b0ad-e67858161255",
   "metadata": {},
   "outputs": [],
   "source": []
  },
  {
   "cell_type": "code",
   "execution_count": null,
   "id": "13ecbc3d-7a6e-4a9e-980a-c0db5c77696f",
   "metadata": {},
   "outputs": [],
   "source": []
  },
  {
   "cell_type": "code",
   "execution_count": null,
   "id": "868a968b-581a-4918-85da-66f404714bb8",
   "metadata": {},
   "outputs": [],
   "source": []
  },
  {
   "cell_type": "code",
   "execution_count": null,
   "id": "882fa8a1-ca75-45a1-92f5-f88d863b1fe0",
   "metadata": {},
   "outputs": [],
   "source": []
  },
  {
   "cell_type": "code",
   "execution_count": null,
   "id": "aa07aae6-abad-4ae5-984d-e132242f9b86",
   "metadata": {},
   "outputs": [],
   "source": []
  }
 ],
 "metadata": {
  "kernelspec": {
   "display_name": "Python 3 (ipykernel)",
   "language": "python",
   "name": "python3"
  },
  "language_info": {
   "codemirror_mode": {
    "name": "ipython",
    "version": 3
   },
   "file_extension": ".py",
   "mimetype": "text/x-python",
   "name": "python",
   "nbconvert_exporter": "python",
   "pygments_lexer": "ipython3",
   "version": "3.11.4"
  }
 },
 "nbformat": 4,
 "nbformat_minor": 5
}
