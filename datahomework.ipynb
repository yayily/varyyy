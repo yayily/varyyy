{
 "cells": [
  {
   "cell_type": "code",
   "execution_count": 2,
   "id": "cbdcb3c9-dec6-4128-acf5-49f6ac2a8cb7",
   "metadata": {},
   "outputs": [],
   "source": [
    "lovely_loveseat_description=[\"Lovely Loveseat\",\" Tufted polyester blend on wood\",\" 32 inches high x 40 inches wide x 30 inches deep\",\" Red or white.\"]"
   ]
  },
  {
   "cell_type": "code",
   "execution_count": 3,
   "id": "089e935c-3bc8-490a-9566-0841c2668cd8",
   "metadata": {
    "tags": []
   },
   "outputs": [],
   "source": [
    "lovely_loveseat_price=254.00"
   ]
  },
  {
   "cell_type": "code",
   "execution_count": 4,
   "id": "753072cb-3b69-4eb1-8c59-881136d3677f",
   "metadata": {
    "tags": []
   },
   "outputs": [],
   "source": [
    "stylish_settee_description=[\"Stylish Settee.\",\" Faux leather on birch.\",\" 29.50 inches high x 54.75 inches wide x 28 inches deep.\",\" Black.\"]"
   ]
  },
  {
   "cell_type": "code",
   "execution_count": 5,
   "id": "09919292-aae0-4bb1-9757-acdfab29bc47",
   "metadata": {
    "tags": []
   },
   "outputs": [],
   "source": [
    "stylish_settee_price=180.50"
   ]
  },
  {
   "cell_type": "code",
   "execution_count": 6,
   "id": "30e7abf8-fbee-45f7-abad-b9af3ccdc337",
   "metadata": {
    "tags": []
   },
   "outputs": [],
   "source": [
    "luxurious_lamp_description=[\"Luxurious Lamp.\",\" Glass and iron.\",\" 36 inches tall. Brown with cream shade.\"]"
   ]
  },
  {
   "cell_type": "code",
   "execution_count": 7,
   "id": "fb2ad537-7c9b-4d3b-ab27-0947fa774005",
   "metadata": {
    "tags": []
   },
   "outputs": [],
   "source": [
    "luxurious_lamp_price=52.15"
   ]
  },
  {
   "cell_type": "code",
   "execution_count": 8,
   "id": "dbefe67f-0d1c-4359-93a5-7e122011b30c",
   "metadata": {
    "tags": []
   },
   "outputs": [],
   "source": [
    "sales_tax=.088"
   ]
  },
  {
   "cell_type": "code",
   "execution_count": 9,
   "id": "c3cf4ff3-c4fe-47c2-9476-5d6414aca233",
   "metadata": {
    "tags": []
   },
   "outputs": [],
   "source": [
    "customer_one_total=0"
   ]
  },
  {
   "cell_type": "code",
   "execution_count": 10,
   "id": "cdb0a618-81ee-48bf-9c24-cef6486de729",
   "metadata": {
    "tags": []
   },
   "outputs": [],
   "source": [
    "customer_one_itemization=\"\""
   ]
  },
  {
   "cell_type": "code",
   "execution_count": 11,
   "id": "06983da9-8d8d-4cba-a1ea-a863bc36fd8a",
   "metadata": {
    "tags": []
   },
   "outputs": [],
   "source": [
    "customer_one_total=customer_one_total+lovely_loveseat_price\n",
    "customer_one_itemization=lovely_loveseat_description"
   ]
  },
  {
   "cell_type": "code",
   "execution_count": 12,
   "id": "93bafa7d-eacd-4517-902b-301c15d2f6ea",
   "metadata": {
    "tags": []
   },
   "outputs": [],
   "source": [
    "customer_one_total=customer_one_total+luxurious_lamp_price"
   ]
  },
  {
   "cell_type": "code",
   "execution_count": 13,
   "id": "2ebbff01-a1a9-47f5-8b82-142517d7e7f2",
   "metadata": {
    "tags": []
   },
   "outputs": [],
   "source": [
    "customer_one_itemization=customer_one_itemization+luxurious_lamp_description"
   ]
  },
  {
   "cell_type": "code",
   "execution_count": 14,
   "id": "db815584-58f8-478e-9af0-2394b166ae59",
   "metadata": {},
   "outputs": [],
   "source": [
    "customer_one_tax=customer_one_total*sales_tax"
   ]
  },
  {
   "cell_type": "code",
   "execution_count": 15,
   "id": "7a096aba-df50-4eae-ac5d-5a990f95a62b",
   "metadata": {},
   "outputs": [],
   "source": [
    "customer_one_total=customer_one_total+customer_one_tax"
   ]
  },
  {
   "cell_type": "code",
   "execution_count": 16,
   "id": "6ef43dce-6f76-4ca5-acf0-37fb35b4ab80",
   "metadata": {
    "tags": []
   },
   "outputs": [
    {
     "name": "stdout",
     "output_type": "stream",
     "text": [
      "Customer One Items:\n",
      "['Lovely Loveseat', ' Tufted polyester blend on wood', ' 32 inches high x 40 inches wide x 30 inches deep', ' Red or white.', 'Luxurious Lamp.', ' Glass and iron.', ' 36 inches tall. Brown with cream shade.']\n",
      "Customer One Total: \n",
      "333.09119999999996\n"
     ]
    }
   ],
   "source": [
    "print(\"Customer One Items:\")\n",
    "print(customer_one_itemization)\n",
    "print(\"Customer One Total: \")\n",
    "print(customer_one_total)"
   ]
  },
  {
   "cell_type": "code",
   "execution_count": null,
   "id": "f9180c4a-46ae-4414-b397-eb040c6e42ba",
   "metadata": {},
   "outputs": [],
   "source": []
  }
 ],
 "metadata": {
  "kernelspec": {
   "display_name": "Python 3 (ipykernel)",
   "language": "python",
   "name": "python3"
  },
  "language_info": {
   "codemirror_mode": {
    "name": "ipython",
    "version": 3
   },
   "file_extension": ".py",
   "mimetype": "text/x-python",
   "name": "python",
   "nbconvert_exporter": "python",
   "pygments_lexer": "ipython3",
   "version": "3.11.4"
  }
 },
 "nbformat": 4,
 "nbformat_minor": 5
}
