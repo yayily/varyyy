{
 "cells": [
  {
   "cell_type": "code",
   "execution_count": 18,
   "id": "eb9658dc-0ad1-4ece-816d-b3ad0bdf8f81",
   "metadata": {},
   "outputs": [],
   "source": [
    "from pyspark.sql import SparkSession\n",
    "spark=SparkSession.builder.master('local').appName('age_categoryer').getOrCreate()"
   ]
  },
  {
   "cell_type": "code",
   "execution_count": 19,
   "id": "8de6dfb8-5682-452f-a879-ba004bbf85af",
   "metadata": {},
   "outputs": [],
   "source": [
    "age_category=[\n",
    "    ('권오형',23),\n",
    "    ('이유진',45),\n",
    "    ('권영관',45),\n",
    "    ('차민혁',23),\n",
    "    ('강병진',23),\n",
    "    ('김숙자',70)\n",
    "]\n",
    "    "
   ]
  },
  {
   "cell_type": "code",
   "execution_count": 20,
   "id": "edfe0fc9-d68e-4947-995a-610a4d8f2c1a",
   "metadata": {},
   "outputs": [],
   "source": [
    "schema=['name','age']"
   ]
  },
  {
   "cell_type": "code",
   "execution_count": 21,
   "id": "cd8a8d2b-e3a2-4680-8f2e-822c87c8d587",
   "metadata": {},
   "outputs": [],
   "source": [
    "df=spark.createDataFrame(age_category,schema)"
   ]
  },
  {
   "cell_type": "code",
   "execution_count": 30,
   "id": "12fe20a3-f832-4d2a-9395-6d0d9eb8eabb",
   "metadata": {},
   "outputs": [
    {
     "name": "stdout",
     "output_type": "stream",
     "text": [
      "+------+---+\n",
      "|  name|age|\n",
      "+------+---+\n",
      "|권오형| 23|\n",
      "|이유진| 45|\n",
      "|권영관| 45|\n",
      "|차민혁| 23|\n",
      "|강병진| 23|\n",
      "|김숙자| 70|\n",
      "+------+---+\n",
      "\n"
     ]
    }
   ],
   "source": [
    "df.show()"
   ]
  },
  {
   "cell_type": "code",
   "execution_count": 23,
   "id": "8339f613-90fe-435c-8e96-ab19afa1304c",
   "metadata": {},
   "outputs": [],
   "source": [
    "df.createOrReplaceTempView('age1')"
   ]
  },
  {
   "cell_type": "code",
   "execution_count": 29,
   "id": "dac3c1b0-1d25-42af-a7cd-ae3096548dc0",
   "metadata": {},
   "outputs": [],
   "source": [
    "def age_category(age):\n",
    "    if age<35:\n",
    "        return 'young'\n",
    "    if 35<age<59:\n",
    "        return 'adult'\n",
    "    if 60<age:\n",
    "        return 'senior'\n",
    "    \n",
    "    "
   ]
  },
  {
   "cell_type": "code",
   "execution_count": 31,
   "id": "950d1388-95e3-4d76-b766-7fd941fdd691",
   "metadata": {},
   "outputs": [
    {
     "data": {
      "text/plain": [
       "<function __main__.age_category(age)>"
      ]
     },
     "execution_count": 31,
     "metadata": {},
     "output_type": "execute_result"
    }
   ],
   "source": [
    "spark.udf.register('age_category',age_category)"
   ]
  },
  {
   "cell_type": "code",
   "execution_count": 32,
   "id": "a82e0ede-bf9d-403a-a359-b92b71dc61ef",
   "metadata": {},
   "outputs": [
    {
     "name": "stdout",
     "output_type": "stream",
     "text": [
      "+------+------------+\n",
      "|  name|age_category|\n",
      "+------+------------+\n",
      "|권오형|       young|\n",
      "|이유진|       adult|\n",
      "|권영관|       adult|\n",
      "|차민혁|       young|\n",
      "|강병진|       young|\n",
      "|김숙자|      senior|\n",
      "+------+------------+\n",
      "\n"
     ]
    }
   ],
   "source": [
    "spark.sql(\n",
    "    \"SELECT name,\\\n",
    "    age_category(age) AS age_category\\\n",
    "    FROM age1\").show()"
   ]
  },
  {
   "cell_type": "code",
   "execution_count": null,
   "id": "c9135a13-e772-471c-b172-b6695e23be0c",
   "metadata": {},
   "outputs": [],
   "source": []
  },
  {
   "cell_type": "code",
   "execution_count": null,
   "id": "42444e21-76c8-48b4-9cc3-2cd5b10520c8",
   "metadata": {},
   "outputs": [],
   "source": []
  },
  {
   "cell_type": "code",
   "execution_count": null,
   "id": "fe22b7eb-f9f4-4bd2-9ceb-8fa3131db5fe",
   "metadata": {},
   "outputs": [],
   "source": []
  }
 ],
 "metadata": {
  "kernelspec": {
   "display_name": "Python 3 (ipykernel)",
   "language": "python",
   "name": "python3"
  },
  "language_info": {
   "codemirror_mode": {
    "name": "ipython",
    "version": 3
   },
   "file_extension": ".py",
   "mimetype": "text/x-python",
   "name": "python",
   "nbconvert_exporter": "python",
   "pygments_lexer": "ipython3",
   "version": "3.9.13"
  }
 },
 "nbformat": 4,
 "nbformat_minor": 5
}
