{
 "cells": [
  {
   "cell_type": "code",
   "execution_count": 303,
   "id": "f2830b98-d9a0-4b87-9ed1-baec2a209acc",
   "metadata": {
    "tags": []
   },
   "outputs": [],
   "source": [
    "hairstyles = [\"bouffant\", \"pixie\", \"dreadlocks\", \"crew\", \"bowl\", \"bob\", \"mohawk\", \"flattop\"]\n",
    "prices = [30, 25, 40, 20, 20, 35, 50, 35]\n",
    "last_week = [2, 3, 5, 8, 4, 4, 6, 2]"
   ]
  },
  {
   "cell_type": "code",
   "execution_count": 304,
   "id": "cc536ff4-2775-41d6-b4e0-f14e4df1059a",
   "metadata": {
    "tags": []
   },
   "outputs": [],
   "source": [
    "total_price=0"
   ]
  },
  {
   "cell_type": "code",
   "execution_count": 305,
   "id": "d5116f6d-b08e-47b9-b53b-c8675342dde6",
   "metadata": {
    "tags": []
   },
   "outputs": [
    {
     "name": "stdout",
     "output_type": "stream",
     "text": [
      "255\n"
     ]
    }
   ],
   "source": [
    "total_price=sum(prices)\n",
    "print(total_price)"
   ]
  },
  {
   "cell_type": "code",
   "execution_count": 306,
   "id": "02e49591-6221-4a0e-8a2e-432c7403ae53",
   "metadata": {
    "tags": []
   },
   "outputs": [
    {
     "name": "stdout",
     "output_type": "stream",
     "text": [
      "Average price is  31.875\n"
     ]
    }
   ],
   "source": [
    "average_price=total_price/len(prices)\n",
    "print(\"Average price is \",average_price)"
   ]
  },
  {
   "cell_type": "code",
   "execution_count": 307,
   "id": "73e0e3c6-7c25-4bbd-b26a-d922c2b942d9",
   "metadata": {
    "tags": []
   },
   "outputs": [],
   "source": [
    "new_prices=prices\n",
    "for i in range(len(prices)):\n",
    "    new_prices[i]-=5\n"
   ]
  },
  {
   "cell_type": "code",
   "execution_count": 308,
   "id": "76ea0ea4-446e-4206-ba61-b9ffedece0b2",
   "metadata": {
    "tags": []
   },
   "outputs": [
    {
     "name": "stdout",
     "output_type": "stream",
     "text": [
      "[25, 20, 35, 15, 15, 30, 45, 30]\n"
     ]
    }
   ],
   "source": [
    "print(new_prices)"
   ]
  },
  {
   "cell_type": "code",
   "execution_count": 309,
   "id": "4d3781e6-1ad6-4a9e-b1c1-598e422d2b3f",
   "metadata": {
    "tags": []
   },
   "outputs": [],
   "source": [
    "total_revenue=0\n",
    "i=0"
   ]
  },
  {
   "cell_type": "code",
   "execution_count": 310,
   "id": "dae9f095-5d5b-4d08-adc2-95945659ed70",
   "metadata": {
    "tags": []
   },
   "outputs": [],
   "source": [
    "for i in range(len(hairstyles)-1):\n",
    "    total_revenue=total_revenue+(prices[i]*last_week[i])"
   ]
  },
  {
   "cell_type": "code",
   "execution_count": 311,
   "id": "7dc8ddd5-2e49-44b7-b5ea-5add51a62784",
   "metadata": {
    "tags": []
   },
   "outputs": [
    {
     "name": "stdout",
     "output_type": "stream",
     "text": [
      "855\n"
     ]
    }
   ],
   "source": [
    "print(total_revenue)"
   ]
  },
  {
   "cell_type": "code",
   "execution_count": 312,
   "id": "e6bdc1bf-bebe-4a94-b60b-c95dd1222857",
   "metadata": {
    "tags": []
   },
   "outputs": [],
   "source": [
    "average_daily_revenue=total_revenue/7"
   ]
  },
  {
   "cell_type": "code",
   "execution_count": 313,
   "id": "5cf64b21-f3fc-4676-9fcd-5f285714e1d5",
   "metadata": {
    "tags": []
   },
   "outputs": [
    {
     "name": "stdout",
     "output_type": "stream",
     "text": [
      "122.14285714285714\n"
     ]
    }
   ],
   "source": [
    "print(average_daily_revenue) #값이 다릅니다.. "
   ]
  },
  {
   "cell_type": "code",
   "execution_count": 338,
   "id": "2226609b-bbd1-4cdd-b287-36355ceb2f81",
   "metadata": {
    "tags": []
   },
   "outputs": [
    {
     "name": "stdout",
     "output_type": "stream",
     "text": [
      "['bouffant', 'pixie', 'dreadlocks', 'crew', 'bowl', 'bob', 'mohawk', 'flattop']\n"
     ]
    }
   ],
   "source": [
    "i=0\n",
    "hairstyles = [\"bouffant\", \"pixie\", \"dreadlocks\", \"crew\", \"bowl\", \"bob\", \"mohawk\", \"flattop\"]\n",
    "print(hairstyles)\n",
    "cuts_under_30=[\"bouffant\", \"pixie\", \"dreadlocks\", \"crew\", \"bowl\", \"bob\", \"mohawk\", \"flattop\"]"
   ]
  },
  {
   "cell_type": "code",
   "execution_count": 339,
   "id": "bc193070-af56-495b-9062-70ac172231f2",
   "metadata": {
    "tags": []
   },
   "outputs": [
    {
     "name": "stdout",
     "output_type": "stream",
     "text": [
      "0\n"
     ]
    }
   ],
   "source": [
    "print(i)\n",
    "\n",
    "for i in range(len(new_prices)):\n",
    "    if(new_prices[i]>=30):\n",
    "        cuts_under_30[i]=0\n",
    "for j in range(cuts_under_30.count(0)):\n",
    "    cuts_under_30.remove(0)"
   ]
  },
  {
   "cell_type": "code",
   "execution_count": 340,
   "id": "51a64182-f80d-489d-9093-05e51c5f5752",
   "metadata": {
    "tags": []
   },
   "outputs": [
    {
     "name": "stdout",
     "output_type": "stream",
     "text": [
      "['bouffant', 'pixie', 'crew', 'bowl']\n"
     ]
    }
   ],
   "source": [
    "print(cuts_under_30)"
   ]
  },
  {
   "cell_type": "code",
   "execution_count": null,
   "id": "b4dbd86a-d5f9-4cd6-a756-595ef157a8bc",
   "metadata": {},
   "outputs": [],
   "source": []
  }
 ],
 "metadata": {
  "kernelspec": {
   "display_name": "Python 3 (ipykernel)",
   "language": "python",
   "name": "python3"
  },
  "language_info": {
   "codemirror_mode": {
    "name": "ipython",
    "version": 3
   },
   "file_extension": ".py",
   "mimetype": "text/x-python",
   "name": "python",
   "nbconvert_exporter": "python",
   "pygments_lexer": "ipython3",
   "version": "3.11.4"
  }
 },
 "nbformat": 4,
 "nbformat_minor": 5
}
